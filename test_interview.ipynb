{
 "cells": [
  {
   "cell_type": "markdown",
   "metadata": {},
   "source": [
    "# Testinterview"
   ]
  },
  {
   "cell_type": "markdown",
   "metadata": {},
   "source": [
    "Zhengkun Li    \n",
    "\n",
    "TU Darmstadt    \n",
    "\n",
    "Kontakt:15226748638   \n",
    "\n",
    "linkedin:linkedin.com/in/zhengkun-li-ab7b4019b"
   ]
  },
  {
   "cell_type": "code",
   "execution_count": 175,
   "metadata": {},
   "outputs": [],
   "source": [
    "import csv\n",
    "import os\n",
    "import numpy as np\n",
    "import pandas as pd\n",
    "from collections import Counter"
   ]
  },
  {
   "cell_type": "markdown",
   "metadata": {},
   "source": [
    "## Load the data"
   ]
  },
  {
   "cell_type": "code",
   "execution_count": 176,
   "metadata": {},
   "outputs": [],
   "source": [
    "df = pd.read_csv('Customerattributiondata.csv',sep=';')"
   ]
  },
  {
   "cell_type": "markdown",
   "metadata": {},
   "source": [
    "## Date time"
   ]
  },
  {
   "cell_type": "code",
   "execution_count": 177,
   "metadata": {},
   "outputs": [
    {
     "data": {
      "text/plain": [
       "0   2020-05-01 19:54:00\n",
       "1   2019-12-29 12:56:00\n",
       "2   2020-06-01 15:24:00\n",
       "3   2019-12-26 11:18:00\n",
       "4   2020-05-01 15:17:00\n",
       "Name: TIMESTAMP_TOUCHPOINT, dtype: datetime64[ns]"
      ]
     },
     "execution_count": 177,
     "metadata": {},
     "output_type": "execute_result"
    }
   ],
   "source": [
    "df['TIMESTAMP_TOUCHPOINT'] = pd.to_datetime(df['TIMESTAMP_TOUCHPOINT'])\n",
    "df['TIMESTAMP_TOUCHPOINT'].head()"
   ]
  },
  {
   "cell_type": "markdown",
   "metadata": {},
   "source": [
    "## Number of the marketingchannel"
   ]
  },
  {
   "cell_type": "code",
   "execution_count": 178,
   "metadata": {
    "scrolled": true
   },
   "outputs": [
    {
     "name": "stdout",
     "output_type": "stream",
     "text": [
      "0                      Direct_NON-BRAND\n",
      "2                              Referral\n",
      "3                             SEO_BRAND\n",
      "5                         SEO_NON-BRAND\n",
      "64                             Adwords/\n",
      "229                  Referral_NON-BRAND\n",
      "4637     Social Media organic_NON-BRAND\n",
      "13149                               NaN\n",
      "Name: MARKETINGCHANNEL, dtype: object\n"
     ]
    }
   ],
   "source": [
    "mc = df['MARKETINGCHANNEL']\n",
    "mc.drop_duplicates(inplace = True)\n",
    "print(mc)"
   ]
  },
  {
   "cell_type": "markdown",
   "metadata": {},
   "source": [
    "## Delete the NaN value(df1)"
   ]
  },
  {
   "cell_type": "code",
   "execution_count": 179,
   "metadata": {
    "scrolled": true
   },
   "outputs": [
    {
     "data": {
      "text/html": [
       "<div>\n",
       "<style scoped>\n",
       "    .dataframe tbody tr th:only-of-type {\n",
       "        vertical-align: middle;\n",
       "    }\n",
       "\n",
       "    .dataframe tbody tr th {\n",
       "        vertical-align: top;\n",
       "    }\n",
       "\n",
       "    .dataframe thead th {\n",
       "        text-align: right;\n",
       "    }\n",
       "</style>\n",
       "<table border=\"1\" class=\"dataframe\">\n",
       "  <thead>\n",
       "    <tr style=\"text-align: right;\">\n",
       "      <th></th>\n",
       "      <th>CUSTOMERID</th>\n",
       "      <th>SESSIONID</th>\n",
       "      <th>TIMESTAMP_TOUCHPOINT</th>\n",
       "      <th>MARKETINGCHANNEL</th>\n",
       "      <th>REVENUE</th>\n",
       "    </tr>\n",
       "  </thead>\n",
       "  <tbody>\n",
       "    <tr>\n",
       "      <th>13144</th>\n",
       "      <td>ffd92a1bee90652c</td>\n",
       "      <td>b9f20f189ef805e4eeca8eb0736be5f7fa515dff</td>\n",
       "      <td>2019-11-24 13:00:00</td>\n",
       "      <td>Referral</td>\n",
       "      <td>NaN</td>\n",
       "    </tr>\n",
       "    <tr>\n",
       "      <th>13145</th>\n",
       "      <td>ffd92a1bee90652c</td>\n",
       "      <td>d1664b86878bb91531cb38c62298fd5aa5f44581</td>\n",
       "      <td>2019-11-23 22:26:00</td>\n",
       "      <td>SEO_BRAND</td>\n",
       "      <td>NaN</td>\n",
       "    </tr>\n",
       "    <tr>\n",
       "      <th>13146</th>\n",
       "      <td>ffe3d2b4ffa544a0</td>\n",
       "      <td>e46d277a01168a2e18c7ba4cd8dba014e6be8360</td>\n",
       "      <td>2019-12-27 20:09:00</td>\n",
       "      <td>Direct_NON-BRAND</td>\n",
       "      <td>NaN</td>\n",
       "    </tr>\n",
       "    <tr>\n",
       "      <th>13147</th>\n",
       "      <td>ffe8ca2b9414bfe6</td>\n",
       "      <td>1294b5d8763cc4932c99938cd1d6cd17f3fbfa6e</td>\n",
       "      <td>2019-06-12 19:29:00</td>\n",
       "      <td>SEO_BRAND</td>\n",
       "      <td>1000.0</td>\n",
       "    </tr>\n",
       "    <tr>\n",
       "      <th>13148</th>\n",
       "      <td>fff79a660283ed02</td>\n",
       "      <td>e9cf96d25a8cd71a6e7ad0929547c529224405df</td>\n",
       "      <td>2019-12-28 22:57:00</td>\n",
       "      <td>Referral</td>\n",
       "      <td>NaN</td>\n",
       "    </tr>\n",
       "  </tbody>\n",
       "</table>\n",
       "</div>"
      ],
      "text/plain": [
       "             CUSTOMERID                                 SESSIONID  \\\n",
       "13144  ffd92a1bee90652c  b9f20f189ef805e4eeca8eb0736be5f7fa515dff   \n",
       "13145  ffd92a1bee90652c  d1664b86878bb91531cb38c62298fd5aa5f44581   \n",
       "13146  ffe3d2b4ffa544a0  e46d277a01168a2e18c7ba4cd8dba014e6be8360   \n",
       "13147  ffe8ca2b9414bfe6  1294b5d8763cc4932c99938cd1d6cd17f3fbfa6e   \n",
       "13148  fff79a660283ed02  e9cf96d25a8cd71a6e7ad0929547c529224405df   \n",
       "\n",
       "      TIMESTAMP_TOUCHPOINT  MARKETINGCHANNEL  REVENUE  \n",
       "13144  2019-11-24 13:00:00          Referral      NaN  \n",
       "13145  2019-11-23 22:26:00         SEO_BRAND      NaN  \n",
       "13146  2019-12-27 20:09:00  Direct_NON-BRAND      NaN  \n",
       "13147  2019-06-12 19:29:00         SEO_BRAND   1000.0  \n",
       "13148  2019-12-28 22:57:00          Referral      NaN  "
      ]
     },
     "execution_count": 179,
     "metadata": {},
     "output_type": "execute_result"
    }
   ],
   "source": [
    "df1 = df.dropna(axis=0,subset=['TIMESTAMP_TOUCHPOINT'],inplace=False)\n",
    "df1.tail()"
   ]
  },
  {
   "cell_type": "markdown",
   "metadata": {},
   "source": [
    "## Indexing by the date&time"
   ]
  },
  {
   "cell_type": "code",
   "execution_count": 180,
   "metadata": {},
   "outputs": [
    {
     "data": {
      "text/html": [
       "<div>\n",
       "<style scoped>\n",
       "    .dataframe tbody tr th:only-of-type {\n",
       "        vertical-align: middle;\n",
       "    }\n",
       "\n",
       "    .dataframe tbody tr th {\n",
       "        vertical-align: top;\n",
       "    }\n",
       "\n",
       "    .dataframe thead th {\n",
       "        text-align: right;\n",
       "    }\n",
       "</style>\n",
       "<table border=\"1\" class=\"dataframe\">\n",
       "  <thead>\n",
       "    <tr style=\"text-align: right;\">\n",
       "      <th></th>\n",
       "      <th>CUSTOMERID</th>\n",
       "      <th>SESSIONID</th>\n",
       "      <th>MARKETINGCHANNEL</th>\n",
       "      <th>REVENUE</th>\n",
       "    </tr>\n",
       "    <tr>\n",
       "      <th>TIMESTAMP_TOUCHPOINT</th>\n",
       "      <th></th>\n",
       "      <th></th>\n",
       "      <th></th>\n",
       "      <th></th>\n",
       "    </tr>\n",
       "  </thead>\n",
       "  <tbody>\n",
       "    <tr>\n",
       "      <th>2019-01-12 00:02:00</th>\n",
       "      <td>ad24944249251df4</td>\n",
       "      <td>6a7b4ba75800e88428b5a3fde203d94253581bf4</td>\n",
       "      <td>SEO_NON-BRAND</td>\n",
       "      <td>1000.0</td>\n",
       "    </tr>\n",
       "    <tr>\n",
       "      <th>2019-01-12 00:07:00</th>\n",
       "      <td>0f01f8a3263b160c</td>\n",
       "      <td>bf0e4ec1cfaeaafac89c73e203a94ca85d91e75b</td>\n",
       "      <td>SEO_NON-BRAND</td>\n",
       "      <td>NaN</td>\n",
       "    </tr>\n",
       "    <tr>\n",
       "      <th>2019-01-12 00:08:00</th>\n",
       "      <td>4b04c2a7424e4eb8</td>\n",
       "      <td>f4ff0edd3f9dfb3b7507ba8ae561e8bbcac89b80</td>\n",
       "      <td>SEO_NON-BRAND</td>\n",
       "      <td>NaN</td>\n",
       "    </tr>\n",
       "    <tr>\n",
       "      <th>2019-01-12 00:14:00</th>\n",
       "      <td>989bef2a5c68d5ef</td>\n",
       "      <td>c47877c91a7f0011e6a006c323dce05b0860ac2d</td>\n",
       "      <td>Direct_NON-BRAND</td>\n",
       "      <td>NaN</td>\n",
       "    </tr>\n",
       "    <tr>\n",
       "      <th>2019-01-12 00:15:00</th>\n",
       "      <td>314a78e3b8529e29</td>\n",
       "      <td>052a3106c1b734fa99843ca91e02e97038b7b0c5</td>\n",
       "      <td>SEO_NON-BRAND</td>\n",
       "      <td>NaN</td>\n",
       "    </tr>\n",
       "  </tbody>\n",
       "</table>\n",
       "</div>"
      ],
      "text/plain": [
       "                            CUSTOMERID  \\\n",
       "TIMESTAMP_TOUCHPOINT                     \n",
       "2019-01-12 00:02:00   ad24944249251df4   \n",
       "2019-01-12 00:07:00   0f01f8a3263b160c   \n",
       "2019-01-12 00:08:00   4b04c2a7424e4eb8   \n",
       "2019-01-12 00:14:00   989bef2a5c68d5ef   \n",
       "2019-01-12 00:15:00   314a78e3b8529e29   \n",
       "\n",
       "                                                     SESSIONID  \\\n",
       "TIMESTAMP_TOUCHPOINT                                             \n",
       "2019-01-12 00:02:00   6a7b4ba75800e88428b5a3fde203d94253581bf4   \n",
       "2019-01-12 00:07:00   bf0e4ec1cfaeaafac89c73e203a94ca85d91e75b   \n",
       "2019-01-12 00:08:00   f4ff0edd3f9dfb3b7507ba8ae561e8bbcac89b80   \n",
       "2019-01-12 00:14:00   c47877c91a7f0011e6a006c323dce05b0860ac2d   \n",
       "2019-01-12 00:15:00   052a3106c1b734fa99843ca91e02e97038b7b0c5   \n",
       "\n",
       "                      MARKETINGCHANNEL  REVENUE  \n",
       "TIMESTAMP_TOUCHPOINT                             \n",
       "2019-01-12 00:02:00      SEO_NON-BRAND   1000.0  \n",
       "2019-01-12 00:07:00      SEO_NON-BRAND      NaN  \n",
       "2019-01-12 00:08:00      SEO_NON-BRAND      NaN  \n",
       "2019-01-12 00:14:00   Direct_NON-BRAND      NaN  \n",
       "2019-01-12 00:15:00      SEO_NON-BRAND      NaN  "
      ]
     },
     "execution_count": 180,
     "metadata": {},
     "output_type": "execute_result"
    }
   ],
   "source": [
    "df_datesIndex = df1.set_index('TIMESTAMP_TOUCHPOINT')  # date & time indexing\n",
    "df_Ascending = df1.set_index('TIMESTAMP_TOUCHPOINT').sort_index(ascending=True) # ascending date\n",
    "df_Ascending.head()"
   ]
  },
  {
   "cell_type": "markdown",
   "metadata": {},
   "source": [
    "## Dict of customers"
   ]
  },
  {
   "cell_type": "code",
   "execution_count": 181,
   "metadata": {},
   "outputs": [],
   "source": [
    "customer = df_Ascending['CUSTOMERID'].unique()\n",
    "customer_set = set(customer)\n",
    "customer = dict.fromkeys(customer, '')\n",
    "customer_list = list(customer_set)"
   ]
  },
  {
   "cell_type": "markdown",
   "metadata": {},
   "source": [
    "## Computing the path to conversion"
   ]
  },
  {
   "cell_type": "code",
   "execution_count": 182,
   "metadata": {},
   "outputs": [],
   "source": [
    "for i in range(0, 13148):\n",
    "    if df_Ascending.iat[i, 0] in customer_set:\n",
    "        customer[df_Ascending.iat[i, 0]] = customer[df_Ascending.iat[i, 0]]+' '+str(df_Ascending.iat[i, 2])\n",
    "        if df_Ascending.iat[i, 3] == 1000:\n",
    "            customer[df_Ascending.iat[i, 0]] = customer[df_Ascending.iat[i, 0]]+' '+':True|'"
   ]
  },
  {
   "cell_type": "markdown",
   "metadata": {},
   "source": [
    "## Load the path in dict into list and split the path"
   ]
  },
  {
   "cell_type": "code",
   "execution_count": 183,
   "metadata": {},
   "outputs": [],
   "source": [
    "for i , key in enumerate(customer):\n",
    "    customer_list[i] = customer[key]"
   ]
  },
  {
   "cell_type": "code",
   "execution_count": 185,
   "metadata": {},
   "outputs": [],
   "source": [
    "#define the path list\n",
    "path_list = []\n",
    "for paths in customer_list:# each customer has several paths\n",
    "    for path in paths.split('|'):# spplit the path with conversion\n",
    "        path_list.append(path)\n",
    "path_list_final = path_list.copy()\n",
    "# path_list"
   ]
  },
  {
   "cell_type": "code",
   "execution_count": 188,
   "metadata": {},
   "outputs": [],
   "source": [
    "for i , path in enumerate(path_list):\n",
    "    path_list_final[i] = list(set(path.split(' ')))# keep the original order and delete the duplicate\n",
    "    path_list_final[i].sort(key = path.index)\n",
    "    if path_list_final[i][-1] != ':True':\n",
    "        path_list_final[i].append(':False')"
   ]
  },
  {
   "cell_type": "code",
   "execution_count": 189,
   "metadata": {},
   "outputs": [
    {
     "data": {
      "text/plain": [
       "848"
      ]
     },
     "execution_count": 189,
     "metadata": {},
     "output_type": "execute_result"
    }
   ],
   "source": [
    "for path in path_list_final:\n",
    "    path.remove('')\n",
    "for i,path in enumerate(path_list_final):\n",
    "    a = path[0]\n",
    "    for item in path[1:]:\n",
    "        a=a+' '+str(item)\n",
    "    path_list_final[i] = a\n",
    "result = dict(Counter(path_list_final))\n",
    "result.pop(':False')"
   ]
  },
  {
   "cell_type": "markdown",
   "metadata": {},
   "source": [
    "## Types of combinations"
   ]
  },
  {
   "cell_type": "code",
   "execution_count": 190,
   "metadata": {},
   "outputs": [],
   "source": [
    "comb = []\n",
    "for key in result:\n",
    "    comb.append(key.split(':')[0])\n",
    "comb_dict = dict.fromkeys(set(comb), 0)\n"
   ]
  },
  {
   "cell_type": "markdown",
   "metadata": {},
   "source": [
    "## Path combinations and their corresponnding statical probability"
   ]
  },
  {
   "cell_type": "code",
   "execution_count": 192,
   "metadata": {
    "scrolled": true
   },
   "outputs": [],
   "source": [
    "for keys in list(comb_dict.keys()):\n",
    "    if (keys+':True') in result:\n",
    "        num_true = result[keys+':True']\n",
    "        if (keys+':False') in result:\n",
    "            num_false = result[keys+':False']\n",
    "        else:\n",
    "            num_true = 0\n",
    "        comb_dict[keys] = num_true/(num_true+num_false)\n",
    "    else:\n",
    "        comb_dict[keys] = 0\n",
    "# comb_dict"
   ]
  },
  {
   "cell_type": "markdown",
   "metadata": {},
   "source": [
    "### List of node"
   ]
  },
  {
   "cell_type": "code",
   "execution_count": 193,
   "metadata": {
    "scrolled": true
   },
   "outputs": [],
   "source": [
    "one_node = list(mc)\n",
    "one_node.pop()\n",
    "mc_ohne_nan = dict.fromkeys(set(one_node), 0)\n",
    "for keys in list(comb_dict.keys()):\n",
    "    if len(keys.split(' ')) == 2:\n",
    "        mc_ohne_nan[keys.split(' ')[0]] =  comb_dict[keys] \n",
    "df_one = pd.DataFrame(mc_ohne_nan,index=[0])\n",
    "list_node = list(mc_ohne_nan.keys())"
   ]
  },
  {
   "cell_type": "code",
   "execution_count": 194,
   "metadata": {},
   "outputs": [
    {
     "data": {
      "text/html": [
       "<div>\n",
       "<style scoped>\n",
       "    .dataframe tbody tr th:only-of-type {\n",
       "        vertical-align: middle;\n",
       "    }\n",
       "\n",
       "    .dataframe tbody tr th {\n",
       "        vertical-align: top;\n",
       "    }\n",
       "\n",
       "    .dataframe thead th {\n",
       "        text-align: right;\n",
       "    }\n",
       "</style>\n",
       "<table border=\"1\" class=\"dataframe\">\n",
       "  <thead>\n",
       "    <tr style=\"text-align: right;\">\n",
       "      <th></th>\n",
       "      <th>SEO_BRAND SEO_NON-BRAND</th>\n",
       "      <th>SEO_NON-BRAND Referral</th>\n",
       "      <th>SEO_BRAND Adwords/</th>\n",
       "      <th>Referral Adwords/</th>\n",
       "      <th>Direct_NON-BRAND Adwords/</th>\n",
       "      <th>SEO_BRAND Direct_NON-BRAND</th>\n",
       "      <th>Direct_NON-BRAND Referral</th>\n",
       "      <th>Adwords/ Direct_NON-BRAND</th>\n",
       "      <th>Referral SEO_NON-BRAND</th>\n",
       "      <th>Referral Direct_NON-BRAND</th>\n",
       "      <th>SEO_NON-BRAND SEO_BRAND</th>\n",
       "      <th>SEO_BRAND Referral</th>\n",
       "      <th>Direct_NON-BRAND SEO_NON-BRAND</th>\n",
       "      <th>Referral SEO_BRAND</th>\n",
       "      <th>SEO_NON-BRAND Direct_NON-BRAND</th>\n",
       "      <th>Adwords/ SEO_BRAND</th>\n",
       "      <th>Direct_NON-BRAND SEO_BRAND</th>\n",
       "    </tr>\n",
       "  </thead>\n",
       "  <tbody>\n",
       "    <tr>\n",
       "      <th>0</th>\n",
       "      <td>0.066667</td>\n",
       "      <td>0.166667</td>\n",
       "      <td>0</td>\n",
       "      <td>0</td>\n",
       "      <td>0</td>\n",
       "      <td>0.193277</td>\n",
       "      <td>0.181818</td>\n",
       "      <td>0.0</td>\n",
       "      <td>0.130435</td>\n",
       "      <td>0.184211</td>\n",
       "      <td>0.222222</td>\n",
       "      <td>0.162791</td>\n",
       "      <td>0.233333</td>\n",
       "      <td>0.12</td>\n",
       "      <td>0.157895</td>\n",
       "      <td>0.5</td>\n",
       "      <td>0.127451</td>\n",
       "    </tr>\n",
       "  </tbody>\n",
       "</table>\n",
       "</div>"
      ],
      "text/plain": [
       "   SEO_BRAND SEO_NON-BRAND   SEO_NON-BRAND Referral   SEO_BRAND Adwords/   \\\n",
       "0                  0.066667                 0.166667                    0   \n",
       "\n",
       "   Referral Adwords/   Direct_NON-BRAND Adwords/   \\\n",
       "0                   0                           0   \n",
       "\n",
       "   SEO_BRAND Direct_NON-BRAND   Direct_NON-BRAND Referral   \\\n",
       "0                     0.193277                    0.181818   \n",
       "\n",
       "   Adwords/ Direct_NON-BRAND   Referral SEO_NON-BRAND   \\\n",
       "0                         0.0                 0.130435   \n",
       "\n",
       "   Referral Direct_NON-BRAND   SEO_NON-BRAND SEO_BRAND   SEO_BRAND Referral   \\\n",
       "0                    0.184211                  0.222222             0.162791   \n",
       "\n",
       "   Direct_NON-BRAND SEO_NON-BRAND   Referral SEO_BRAND   \\\n",
       "0                         0.233333                 0.12   \n",
       "\n",
       "   SEO_NON-BRAND Direct_NON-BRAND   Adwords/ SEO_BRAND   \\\n",
       "0                         0.157895                  0.5   \n",
       "\n",
       "   Direct_NON-BRAND SEO_BRAND   \n",
       "0                     0.127451  "
      ]
     },
     "execution_count": 194,
     "metadata": {},
     "output_type": "execute_result"
    }
   ],
   "source": [
    "two_node = {}\n",
    "for keys in list(comb_dict.keys()):\n",
    "    if len(keys.split(' ')) == 3:\n",
    "        two_node[keys] =  comb_dict[keys] \n",
    "df_two = pd.DataFrame(two_node,index=[0])\n",
    "df_two"
   ]
  },
  {
   "cell_type": "markdown",
   "metadata": {},
   "source": [
    "## Calculating the MCF Data-Driven Attribution methodology"
   ]
  },
  {
   "cell_type": "markdown",
   "metadata": {},
   "source": [
    "### Reference:\n",
    "https://support.google.com/analytics/answer/3191594?hl=en\n",
    "\n",
    "https://en.wikipedia.org/wiki/Shapley_value"
   ]
  },
  {
   "cell_type": "markdown",
   "metadata": {},
   "source": [
    "The following code will be written strictly follwed by the equation below:\n",
    "\n",
    "\n",
    "$\\phi_i(\\upsilon)=\\sum_ {S\\subseteq N \\setminus{{i}}}^{}{\\frac{\\mid S\\mid!(n - \\mid S\\mid -1)!}{n!}}(\\upsilon(S\\cup{i})-\\upsilon(S))$"
   ]
  },
  {
   "cell_type": "markdown",
   "metadata": {},
   "source": [
    "#### Generate the dict based on the length of route"
   ]
  },
  {
   "cell_type": "code",
   "execution_count": 195,
   "metadata": {},
   "outputs": [],
   "source": [
    "route_length = [{} for i in range(7)]\n",
    "for keys in list(comb_dict.keys()):\n",
    "    node_num = len(keys.split(' '))-2\n",
    "    route_length[node_num][keys] = comb_dict[keys] \n",
    "# route_length"
   ]
  },
  {
   "cell_type": "markdown",
   "metadata": {},
   "source": [
    "#### calculate the marginal contribution"
   ]
  },
  {
   "cell_type": "code",
   "execution_count": 196,
   "metadata": {},
   "outputs": [],
   "source": [
    "data ={'sum':np.zeros(7),'count':np.zeros(7),}# count and sum of  the marginal contribution of each marketing channel.\n",
    "mc_contribution = pd.DataFrame(data,index=list_node)\n",
    "for i in range(1,4):\n",
    "    for route_with_specific_length in route_length[i]:\n",
    "        route = route_with_specific_length.split(' ')\n",
    "        for j,node_route in enumerate(route):\n",
    "            for node_in_list in set(list_node):\n",
    "                if node_route == node_in_list:  \n",
    "                    route.pop(j)\n",
    "                    for route_compared in route_length[i-1]:\n",
    "                        if ' '.join(route) == route_compared:\n",
    "#                             print(node_in_list+' = '+route_with_specific_length+ ' - '+route_compared)# how did each marginal contribution is calculated\n",
    "#                             print(str(comb_dict[route_with_specific_length])+ ' - '+str(comb_dict[route_compared]))\n",
    "                            mc_contribution.loc[node_in_list]['count'] = mc_contribution.loc[node_in_list]['count'] +1\n",
    "                            mc_contribution.loc[node_in_list]['sum'] = mc_contribution.loc[node_in_list]['sum'] + route_length[i][route_with_specific_length] - route_length[i-1][route_compared]\n",
    "#                             print(mc_contribution[node_in_lst]['count'])\n",
    "for route_with_specific_length in route_length[0]: # add the route length = 1 contribution\n",
    "    a = route_with_specific_length.split(' ')[0]\n",
    "    mc_contribution.loc[a]['count'] = mc_contribution.loc[a]['count'] +1\n",
    "    mc_contribution.loc[a]['sum'] = mc_contribution.loc[a]['sum'] + route_length[0][route_with_specific_length] \n",
    "# mc_contribution"
   ]
  },
  {
   "cell_type": "code",
   "execution_count": 197,
   "metadata": {},
   "outputs": [
    {
     "data": {
      "text/html": [
       "<div>\n",
       "<style scoped>\n",
       "    .dataframe tbody tr th:only-of-type {\n",
       "        vertical-align: middle;\n",
       "    }\n",
       "\n",
       "    .dataframe tbody tr th {\n",
       "        vertical-align: top;\n",
       "    }\n",
       "\n",
       "    .dataframe thead th {\n",
       "        text-align: right;\n",
       "    }\n",
       "</style>\n",
       "<table border=\"1\" class=\"dataframe\">\n",
       "  <thead>\n",
       "    <tr style=\"text-align: right;\">\n",
       "      <th></th>\n",
       "      <th>Contribution</th>\n",
       "    </tr>\n",
       "  </thead>\n",
       "  <tbody>\n",
       "    <tr>\n",
       "      <th>Direct_NON-BRAND</th>\n",
       "      <td>-0.045574</td>\n",
       "    </tr>\n",
       "    <tr>\n",
       "      <th>Social Media organic_NON-BRAND</th>\n",
       "      <td>0.000000</td>\n",
       "    </tr>\n",
       "    <tr>\n",
       "      <th>Referral</th>\n",
       "      <td>0.018937</td>\n",
       "    </tr>\n",
       "    <tr>\n",
       "      <th>Adwords/</th>\n",
       "      <td>0.024678</td>\n",
       "    </tr>\n",
       "    <tr>\n",
       "      <th>Referral_NON-BRAND</th>\n",
       "      <td>0.142857</td>\n",
       "    </tr>\n",
       "    <tr>\n",
       "      <th>SEO_BRAND</th>\n",
       "      <td>-0.009738</td>\n",
       "    </tr>\n",
       "    <tr>\n",
       "      <th>SEO_NON-BRAND</th>\n",
       "      <td>-0.061305</td>\n",
       "    </tr>\n",
       "  </tbody>\n",
       "</table>\n",
       "</div>"
      ],
      "text/plain": [
       "                                Contribution\n",
       "Direct_NON-BRAND                   -0.045574\n",
       "Social Media organic_NON-BRAND      0.000000\n",
       "Referral                            0.018937\n",
       "Adwords/                            0.024678\n",
       "Referral_NON-BRAND                  0.142857\n",
       "SEO_BRAND                          -0.009738\n",
       "SEO_NON-BRAND                      -0.061305"
      ]
     },
     "execution_count": 197,
     "metadata": {},
     "output_type": "execute_result"
    }
   ],
   "source": [
    "data ={'Contribution':np.zeros(7)}# final\n",
    "mc_contribution_final = pd.DataFrame(data,index=list_node)\n",
    "for node in list_node:\n",
    "    if mc_contribution.loc[node]['count'] != 0:\n",
    "        mc_contribution_final.loc[node] = mc_contribution.loc[node]['sum'] / mc_contribution.loc[node]['count']\n",
    "mc_contribution_final"
   ]
  },
  {
   "cell_type": "markdown",
   "metadata": {},
   "source": [
    "This table means the effect of each marketing channel on the final conversion rate. For example the 'Referral' on the Marketing route will increase the conversion rate for 1.8937%."
   ]
  },
  {
   "cell_type": "markdown",
   "metadata": {},
   "source": [
    "# Summary"
   ]
  },
  {
   "cell_type": "markdown",
   "metadata": {},
   "source": [
    "The final contribution of each marketing channel I computed using Shapley value is partially correct since a marketing channel can't have a negative effect on the conversion rate. The reason for this strange problem is probably that to calculate the Shapley value I have to calculate the average value of the marginal contribution so I didn't add the weight of the conversion frequency. Another probable reason for this problem is that the number of paths is missing. We have a total of 7 different marketing channels, which means, to calculate the Shapley value, I have to calculate the 7! different permutations of different marketing channels, but from the raw data I receive, there are only 54 different permutations. So if there are more data, this model may have a better outcome."
   ]
  },
  {
   "cell_type": "code",
   "execution_count": null,
   "metadata": {},
   "outputs": [],
   "source": []
  }
 ],
 "metadata": {
  "kernelspec": {
   "display_name": "Python 3",
   "language": "python",
   "name": "python3"
  },
  "language_info": {
   "codemirror_mode": {
    "name": "ipython",
    "version": 3
   },
   "file_extension": ".py",
   "mimetype": "text/x-python",
   "name": "python",
   "nbconvert_exporter": "python",
   "pygments_lexer": "ipython3",
   "version": "3.7.3"
  }
 },
 "nbformat": 4,
 "nbformat_minor": 2
}
